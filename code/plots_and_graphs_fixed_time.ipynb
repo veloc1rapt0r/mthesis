{
 "cells": [
  {
   "cell_type": "markdown",
   "metadata": {},
   "source": [
    "# Plots"
   ]
  },
  {
   "cell_type": "code",
   "execution_count": null,
   "metadata": {},
   "outputs": [],
   "source": [
    "import sys\n",
    "sys.path.append(\"../\")\n",
    "import numpy as np\n",
    "import pandas as pd\n",
    "import matplotlib.pyplot as plt\n",
    "import torch, torch.nn as nn\n",
    "import torchvision, torchvision.transforms as tt\n",
    "import os\n",
    "from os.path import exists\n",
    "import seaborn as sns"
   ]
  },
  {
   "cell_type": "markdown",
   "metadata": {},
   "source": [
    "# utils"
   ]
  },
  {
   "cell_type": "code",
   "execution_count": null,
   "metadata": {},
   "outputs": [],
   "source": [
    "# Creates a pandas dataframe if file exist\n",
    "# Input:    String -  Path to the .csv log file\n",
    "# Output:   pandas.DataFrame\n",
    "def create_df_if_exist(path):\n",
    "    if exists(path):\n",
    "        return pd.read_csv(path, sep=',')\n",
    "    else:\n",
    "        print('No file exist', path)\n",
    "        return None\n",
    "\n",
    "# Creates 4 dataframes, with validate, train, and runtime logs.\n",
    "# Input:    String -  Path to the .csv log file\n",
    "# Output:   Tuple of 4 pandas.DataFrame's\n",
    "def create_dfs_filename(path):\n",
    "    path_val = path + '_val.csv'\n",
    "    path_train =  path + '_train.csv'\n",
    "    path_test = path + '_test.csv'\n",
    "    path_runtime = path + '_runtime.csv'\n",
    "    return create_df_if_exist(path_val), create_df_if_exist(path_train), create_df_if_exist(path_test), create_df_if_exist(path_runtime)"
   ]
  },
  {
   "cell_type": "markdown",
   "metadata": {},
   "source": [
    "# Confusion Matrices"
   ]
  },
  {
   "cell_type": "code",
   "execution_count": null,
   "metadata": {},
   "outputs": [],
   "source": []
  },
  {
   "cell_type": "markdown",
   "metadata": {},
   "source": [
    "# AlexNet"
   ]
  },
  {
   "cell_type": "code",
   "execution_count": null,
   "outputs": [],
   "source": [
    "conf_matr_path = \"/Users/olehbakumenko/PycharmProjects/MasterThesis/Code/conf_matr_and_per_class_accuracy/fixed_time/\"\n",
    "class_names = ['0', '  1', ' 2']\n",
    "fig_size = (22,7)\n",
    "\n",
    "def plot_three_conf_matr_fixed_time(model_name,folder,lr):\n",
    "    plt.figure(figsize = fig_size)\n",
    "    plt.suptitle(t = f\"{model_name}, lr = 10e{-int(lr)}\", fontsize = 23)\n",
    "    for i in range(3):\n",
    "        if i == 0:\n",
    "            time='10min'\n",
    "        if i == 1:\n",
    "            time='15min'\n",
    "        if i == 2:\n",
    "            time='20min'\n",
    "        conf_matr = torch.load(conf_matr_path + f\"{folder}/confusion_matr_{model_name}_fixed_time_lre{lr}_{time}.pt\")\n",
    "        per_class_accuracy = 100*conf_matr.diag()/conf_matr.sum(1)\n",
    "        mean = torch.mean(per_class_accuracy)\n",
    "        per_class_accuracy_np = np.array2string(np.round(per_class_accuracy.detach().numpy(),2), separator=' ; ')\n",
    "        mean_np = np.array2string(np.round(mean.detach().numpy(),2))\n",
    "        df_cm = pd.DataFrame(conf_matr, class_names, class_names)\n",
    "        plt.subplot(1,3,i+1)\n",
    "        sns.heatmap(df_cm, annot=True, fmt=\"d\", cmap='BuGn')\n",
    "        plt.title(f\"Per class  accuracy:  { per_class_accuracy_np}, Mean: [{mean_np}]\",y = -0.2,fontsize=18)\n",
    "        plt.xlabel(\"Prediction\")\n",
    "        plt.ylabel(\"Target\")\n",
    "        plt.tight_layout()\n",
    "        plt.text(1.6, -0.1, time, fontsize=18, ha=\"center\")\n"
   ],
   "metadata": {
    "collapsed": false
   }
  },
  {
   "cell_type": "code",
   "execution_count": null,
   "outputs": [],
   "source": [
    "plot_three_conf_matr_fixed_time(model_name='AlexNet',folder = 'AlexNet',lr='3')\n",
    "plot_three_conf_matr_fixed_time(model_name='AlexNet',folder = 'AlexNet',lr='4')\n",
    "plot_three_conf_matr_fixed_time(model_name='AlexNet',folder = 'AlexNet',lr='5')\n",
    "\n",
    "plot_three_conf_matr_fixed_time(model_name='ResNet18',folder = '18',lr='3')\n",
    "plot_three_conf_matr_fixed_time(model_name='ResNet18',folder = '18',lr='4')\n",
    "plot_three_conf_matr_fixed_time(model_name='ResNet18',folder = '18',lr='5')\n",
    "\n",
    "plot_three_conf_matr_fixed_time(model_name='ResNet34',folder = '34',lr='3')\n",
    "plot_three_conf_matr_fixed_time(model_name='ResNet34',folder = '34',lr='4')\n",
    "plot_three_conf_matr_fixed_time(model_name='ResNet34',folder = '34',lr='5')\n",
    "\n",
    "plot_three_conf_matr_fixed_time(model_name='ResNet50',folder = '50',lr='3')\n",
    "plot_three_conf_matr_fixed_time(model_name='ResNet50',folder = '50',lr='4')\n",
    "plot_three_conf_matr_fixed_time(model_name='ResNet50',folder = '50',lr='5')"
   ],
   "metadata": {
    "collapsed": false
   }
  }
 ],
 "metadata": {
  "kernelspec": {
   "display_name": "Python 3 (ipykernel)",
   "language": "python",
   "name": "python3"
  },
  "language_info": {
   "codemirror_mode": {
    "name": "ipython",
    "version": 3
   },
   "file_extension": ".py",
   "mimetype": "text/x-python",
   "name": "python",
   "nbconvert_exporter": "python",
   "pygments_lexer": "ipython3",
   "version": "3.8.3"
  },
  "vscode": {
   "interpreter": {
    "hash": "5555b6f2b0077a97828fbbfe12cb97727895c9c472121c1b71224aa97370345d"
   }
  }
 },
 "nbformat": 4,
 "nbformat_minor": 2
}
